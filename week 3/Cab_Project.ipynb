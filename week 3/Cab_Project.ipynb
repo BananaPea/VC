{
 "cells": [
  {
   "cell_type": "code",
   "execution_count": 16,
   "metadata": {},
   "outputs": [],
   "source": [
    "import numpy as np\n",
    "import pandas as pd\n",
    "import matplotlib.pyplot as plt\n",
    "import seaborn as sns\n",
    "import datetime\n",
    "from datetime import datetime, timedelta"
   ]
  },
  {
   "cell_type": "markdown",
   "metadata": {},
   "source": [
    "# Upload Data"
   ]
  },
  {
   "cell_type": "code",
   "execution_count": 4,
   "metadata": {},
   "outputs": [],
   "source": [
    "df_cab = pd.read_csv('Cab_Data.csv',sep = ',')\n",
    "df_city = pd.read_csv('City.csv', sep = ',')\n",
    "df_customerID = pd.read_csv('Customer_ID.csv', sep = ',')\n",
    "df_transactionID = pd.read_csv('Transaction_ID.csv', sep = ',')"
   ]
  },
  {
   "cell_type": "markdown",
   "metadata": {},
   "source": [
    "# Calculate the date "
   ]
  },
  {
   "cell_type": "code",
   "execution_count": 11,
   "metadata": {},
   "outputs": [
    {
     "data": {
      "text/plain": [
       "(42371, 43465)"
      ]
     },
     "execution_count": 11,
     "metadata": {},
     "output_type": "execute_result"
    }
   ],
   "source": [
    "df_cab['Date of Travel'].min(),df_cab['Date of Travel'].max()"
   ]
  },
  {
   "cell_type": "code",
   "execution_count": 12,
   "metadata": {},
   "outputs": [
    {
     "data": {
      "text/plain": [
       "'1900-01-28'"
      ]
     },
     "execution_count": 12,
     "metadata": {},
     "output_type": "execute_result"
    }
   ],
   "source": [
    "datetime.strftime(datetime(2016,1,31) - timedelta(days= 42371), '%Y-%m-%d')"
   ]
  },
  {
   "cell_type": "code",
   "execution_count": 13,
   "metadata": {},
   "outputs": [
    {
     "data": {
      "text/plain": [
       "'2016-01-31'"
      ]
     },
     "execution_count": 13,
     "metadata": {},
     "output_type": "execute_result"
    }
   ],
   "source": [
    "datetime.strftime(datetime(1900,1,28) + timedelta(days= 42371), '%Y-%m-%d')"
   ]
  },
  {
   "cell_type": "code",
   "execution_count": 14,
   "metadata": {},
   "outputs": [
    {
     "data": {
      "text/plain": [
       "'2019-01-29'"
      ]
     },
     "execution_count": 14,
     "metadata": {},
     "output_type": "execute_result"
    }
   ],
   "source": [
    "datetime.strftime(datetime(1900,1,28) + timedelta(days= 43465), '%Y-%m-%d')"
   ]
  },
  {
   "cell_type": "code",
   "execution_count": 15,
   "metadata": {},
   "outputs": [
    {
     "data": {
      "text/plain": [
       "'1899-12-30'"
      ]
     },
     "execution_count": 15,
     "metadata": {},
     "output_type": "execute_result"
    }
   ],
   "source": [
    "datetime.strftime(datetime(2018,12,31) - timedelta(days= 43465), '%Y-%m-%d')"
   ]
  },
  {
   "cell_type": "code",
   "execution_count": 16,
   "metadata": {},
   "outputs": [
    {
     "data": {
      "text/plain": [
       "'2016-01-02'"
      ]
     },
     "execution_count": 16,
     "metadata": {},
     "output_type": "execute_result"
    }
   ],
   "source": [
    "datetime.strftime(datetime(1899,12,30) + timedelta(days= 42371), '%Y-%m-%d')"
   ]
  },
  {
   "cell_type": "markdown",
   "metadata": {},
   "source": [
    "### Organize Dataset"
   ]
  },
  {
   "cell_type": "code",
   "execution_count": 5,
   "metadata": {},
   "outputs": [],
   "source": [
    "df_cab['Date of Travel']=df_cab['Date of Travel'].apply(lambda x: datetime.strftime(datetime(1899, 12, 30) + timedelta(days=x), '%Y-%m-%d'))\n",
    "df1 = pd.merge(df_cab,df_transactionID, on = 'Transaction ID')\n",
    "df2 = pd.merge(df1, df_city, on = 'City')\n",
    "df = pd.merge(df2, df_customerID)\n",
    "df['year'],df['month'] = pd.DatetimeIndex(df['Date of Travel']).year, pd.DatetimeIndex(df['Date of Travel']).month"
   ]
  },
  {
   "cell_type": "code",
   "execution_count": 18,
   "metadata": {},
   "outputs": [
    {
     "name": "stdout",
     "output_type": "stream",
     "text": [
      "<class 'pandas.core.frame.DataFrame'>\n",
      "Int64Index: 359392 entries, 0 to 359391\n",
      "Data columns (total 16 columns):\n",
      " #   Column              Non-Null Count   Dtype  \n",
      "---  ------              --------------   -----  \n",
      " 0   Transaction ID      359392 non-null  int64  \n",
      " 1   Date of Travel      359392 non-null  object \n",
      " 2   Company             359392 non-null  object \n",
      " 3   City                359392 non-null  object \n",
      " 4   KM Travelled        359392 non-null  float64\n",
      " 5   Price Charged       359392 non-null  float64\n",
      " 6   Cost of Trip        359392 non-null  float64\n",
      " 7   Customer ID         359392 non-null  int64  \n",
      " 8   Payment_Mode        359392 non-null  object \n",
      " 9   Population          359392 non-null  object \n",
      " 10  Users               359392 non-null  object \n",
      " 11  Gender              359392 non-null  object \n",
      " 12  Age                 359392 non-null  int64  \n",
      " 13  Income (USD/Month)  359392 non-null  int64  \n",
      " 14  year                359392 non-null  int64  \n",
      " 15  month               359392 non-null  int64  \n",
      "dtypes: float64(3), int64(6), object(7)\n",
      "memory usage: 46.6+ MB\n"
     ]
    }
   ],
   "source": [
    "df.info()"
   ]
  },
  {
   "cell_type": "markdown",
   "metadata": {},
   "source": [
    "### Plot histogram of numerical data (colunms)"
   ]
  },
  {
   "cell_type": "code",
   "execution_count": 13,
   "metadata": {},
   "outputs": [
    {
     "data": {
      "text/plain": [
       "array([[<matplotlib.axes._subplots.AxesSubplot object at 0x7f28525239a0>,\n",
       "        <matplotlib.axes._subplots.AxesSubplot object at 0x7f28535b1e50>,\n",
       "        <matplotlib.axes._subplots.AxesSubplot object at 0x7f285356b310>],\n",
       "       [<matplotlib.axes._subplots.AxesSubplot object at 0x7f2853517790>,\n",
       "        <matplotlib.axes._subplots.AxesSubplot object at 0x7f2853542be0>,\n",
       "        <matplotlib.axes._subplots.AxesSubplot object at 0x7f28534f20d0>],\n",
       "       [<matplotlib.axes._subplots.AxesSubplot object at 0x7f28534fe0a0>,\n",
       "        <matplotlib.axes._subplots.AxesSubplot object at 0x7f28534a8580>,\n",
       "        <matplotlib.axes._subplots.AxesSubplot object at 0x7f2853480d90>]],\n",
       "      dtype=object)"
      ]
     },
     "execution_count": 13,
     "metadata": {},
     "output_type": "execute_result"
    },
    {
     "data": {
      "image/png": "[encoded data removed]",
      "text/plain": [
       "<Figure size 1152x1440 with 9 Axes>"
      ]
     },
     "metadata": {
      "needs_background": "light"
     },
     "output_type": "display_data"
    }
   ],
   "source": [
    "df.hist(figsize=(16,20), xlabelsize=8, ylabelsize=8)"
   ]
  },
  {
   "cell_type": "markdown",
   "metadata": {},
   "source": [
    "# Descriptive Analysis"
   ]
  },
  {
   "cell_type": "markdown",
   "metadata": {},
   "source": [
    "## Check Unique Values"
   ]
  },
  {
   "cell_type": "code",
   "execution_count": 14,
   "metadata": {},
   "outputs": [
    {
     "data": {
      "text/plain": [
       "array(['ATLANTA GA', 'AUSTIN TX', 'BOSTON MA', 'CHICAGO IL', 'DALLAS TX',\n",
       "       'DENVER CO', 'LOS ANGELES CA', 'MIAMI FL', 'NASHVILLE TN',\n",
       "       'NEW YORK NY', 'ORANGE COUNTY', 'PHOENIX AZ', 'PITTSBURGH PA',\n",
       "       'SACRAMENTO CA', 'SAN DIEGO CA', 'SEATTLE WA', 'SILICON VALLEY',\n",
       "       'TUCSON AZ', 'WASHINGTON DC'], dtype=object)"
      ]
     },
     "execution_count": 14,
     "metadata": {},
     "output_type": "execute_result"
    }
   ],
   "source": [
    "df['City'].unique()"
   ]
  },
  {
   "cell_type": "code",
   "execution_count": 15,
   "metadata": {},
   "outputs": [
    {
     "data": {
      "text/plain": [
       "array(['Pink Cab', 'Yellow Cab'], dtype=object)"
      ]
     },
     "execution_count": 15,
     "metadata": {},
     "output_type": "execute_result"
    }
   ],
   "source": [
    "df['Company'].unique()"
   ]
  },
  {
   "cell_type": "code",
   "execution_count": 16,
   "metadata": {},
   "outputs": [
    {
     "data": {
      "text/plain": [
       "array(['Card', 'Cash'], dtype=object)"
      ]
     },
     "execution_count": 16,
     "metadata": {},
     "output_type": "execute_result"
    }
   ],
   "source": [
    "df['Payment_Mode'].unique()"
   ]
  },
  {
   "cell_type": "code",
   "execution_count": 17,
   "metadata": {},
   "outputs": [
    {
     "data": {
      "text/plain": [
       "array(['Male', 'Female'], dtype=object)"
      ]
     },
     "execution_count": 17,
     "metadata": {},
     "output_type": "execute_result"
    }
   ],
   "source": [
    "df['Gender'].unique()"
   ]
  },
  {
   "cell_type": "code",
   "execution_count": 18,
   "metadata": {},
   "outputs": [
    {
     "data": {
      "text/plain": [
       "(array([2016, 2018, 2017]),\n",
       " array([ 1,  7, 11,  4,  5, 10,  9,  6, 12,  2,  8,  3]))"
      ]
     },
     "execution_count": 18,
     "metadata": {},
     "output_type": "execute_result"
    }
   ],
   "source": [
    "df['year'].unique(), df['month'].unique()"
   ]
  },
  {
   "cell_type": "code",
   "execution_count": 19,
   "metadata": {},
   "outputs": [
    {
     "data": {
      "text/html": [
       "<div>\n",
       "<style scoped>\n",
       "    .dataframe tbody tr th:only-of-type {\n",
       "        vertical-align: middle;\n",
       "    }\n",
       "\n",
       "    .dataframe tbody tr th {\n",
       "        vertical-align: top;\n",
       "    }\n",
       "\n",
       "    .dataframe thead th {\n",
       "        text-align: right;\n",
       "    }\n",
       "</style>\n",
       "<table border=\"1\" class=\"dataframe\">\n",
       "  <thead>\n",
       "    <tr style=\"text-align: right;\">\n",
       "      <th></th>\n",
       "      <th>Transaction ID</th>\n",
       "      <th>KM Travelled</th>\n",
       "      <th>Price Charged</th>\n",
       "      <th>Cost of Trip</th>\n",
       "      <th>Customer ID</th>\n",
       "      <th>Age</th>\n",
       "      <th>Income (USD/Month)</th>\n",
       "      <th>year</th>\n",
       "      <th>month</th>\n",
       "    </tr>\n",
       "  </thead>\n",
       "  <tbody>\n",
       "    <tr>\n",
       "      <th>count</th>\n",
       "      <td>3.593920e+05</td>\n",
       "      <td>359392.000000</td>\n",
       "      <td>359392.000000</td>\n",
       "      <td>359392.000000</td>\n",
       "      <td>359392.000000</td>\n",
       "      <td>359392.000000</td>\n",
       "      <td>359392.000000</td>\n",
       "      <td>359392.000000</td>\n",
       "      <td>359392.000000</td>\n",
       "    </tr>\n",
       "    <tr>\n",
       "      <th>mean</th>\n",
       "      <td>1.022076e+07</td>\n",
       "      <td>22.567254</td>\n",
       "      <td>423.443311</td>\n",
       "      <td>286.190113</td>\n",
       "      <td>19191.652115</td>\n",
       "      <td>35.336705</td>\n",
       "      <td>15048.822937</td>\n",
       "      <td>2017.045199</td>\n",
       "      <td>7.500434</td>\n",
       "    </tr>\n",
       "    <tr>\n",
       "      <th>std</th>\n",
       "      <td>1.268058e+05</td>\n",
       "      <td>12.233526</td>\n",
       "      <td>274.378911</td>\n",
       "      <td>157.993661</td>\n",
       "      <td>21012.412463</td>\n",
       "      <td>12.594234</td>\n",
       "      <td>7969.409482</td>\n",
       "      <td>0.800239</td>\n",
       "      <td>3.445095</td>\n",
       "    </tr>\n",
       "    <tr>\n",
       "      <th>min</th>\n",
       "      <td>1.000001e+07</td>\n",
       "      <td>1.900000</td>\n",
       "      <td>15.600000</td>\n",
       "      <td>19.000000</td>\n",
       "      <td>1.000000</td>\n",
       "      <td>18.000000</td>\n",
       "      <td>2000.000000</td>\n",
       "      <td>2016.000000</td>\n",
       "      <td>1.000000</td>\n",
       "    </tr>\n",
       "    <tr>\n",
       "      <th>25%</th>\n",
       "      <td>1.011081e+07</td>\n",
       "      <td>12.000000</td>\n",
       "      <td>206.437500</td>\n",
       "      <td>151.200000</td>\n",
       "      <td>2705.000000</td>\n",
       "      <td>25.000000</td>\n",
       "      <td>8424.000000</td>\n",
       "      <td>2016.000000</td>\n",
       "      <td>5.000000</td>\n",
       "    </tr>\n",
       "    <tr>\n",
       "      <th>50%</th>\n",
       "      <td>1.022104e+07</td>\n",
       "      <td>22.440000</td>\n",
       "      <td>386.360000</td>\n",
       "      <td>282.480000</td>\n",
       "      <td>7459.000000</td>\n",
       "      <td>33.000000</td>\n",
       "      <td>14685.000000</td>\n",
       "      <td>2017.000000</td>\n",
       "      <td>8.000000</td>\n",
       "    </tr>\n",
       "    <tr>\n",
       "      <th>75%</th>\n",
       "      <td>1.033094e+07</td>\n",
       "      <td>32.960000</td>\n",
       "      <td>583.660000</td>\n",
       "      <td>413.683200</td>\n",
       "      <td>36078.000000</td>\n",
       "      <td>42.000000</td>\n",
       "      <td>21035.000000</td>\n",
       "      <td>2018.000000</td>\n",
       "      <td>10.000000</td>\n",
       "    </tr>\n",
       "    <tr>\n",
       "      <th>max</th>\n",
       "      <td>1.044011e+07</td>\n",
       "      <td>48.000000</td>\n",
       "      <td>2048.030000</td>\n",
       "      <td>691.200000</td>\n",
       "      <td>60000.000000</td>\n",
       "      <td>65.000000</td>\n",
       "      <td>35000.000000</td>\n",
       "      <td>2018.000000</td>\n",
       "      <td>12.000000</td>\n",
       "    </tr>\n",
       "  </tbody>\n",
       "</table>\n",
       "</div>"
      ],
      "text/plain": [
       "       Transaction ID   KM Travelled  Price Charged   Cost of Trip  \\\n",
       "count    3.593920e+05  359392.000000  359392.000000  359392.000000   \n",
       "mean     1.022076e+07      22.567254     423.443311     286.190113   \n",
       "std      1.268058e+05      12.233526     274.378911     157.993661   \n",
       "min      1.000001e+07       1.900000      15.600000      19.000000   \n",
       "25%      1.011081e+07      12.000000     206.437500     151.200000   \n",
       "50%      1.022104e+07      22.440000     386.360000     282.480000   \n",
       "75%      1.033094e+07      32.960000     583.660000     413.683200   \n",
       "max      1.044011e+07      48.000000    2048.030000     691.200000   \n",
       "\n",
       "         Customer ID            Age  Income (USD/Month)           year  \\\n",
       "count  359392.000000  359392.000000       359392.000000  359392.000000   \n",
       "mean    19191.652115      35.336705        15048.822937    2017.045199   \n",
       "std     21012.412463      12.594234         7969.409482       0.800239   \n",
       "min         1.000000      18.000000         2000.000000    2016.000000   \n",
       "25%      2705.000000      25.000000         8424.000000    2016.000000   \n",
       "50%      7459.000000      33.000000        14685.000000    2017.000000   \n",
       "75%     36078.000000      42.000000        21035.000000    2018.000000   \n",
       "max     60000.000000      65.000000        35000.000000    2018.000000   \n",
       "\n",
       "               month  \n",
       "count  359392.000000  \n",
       "mean        7.500434  \n",
       "std         3.445095  \n",
       "min         1.000000  \n",
       "25%         5.000000  \n",
       "50%         8.000000  \n",
       "75%        10.000000  \n",
       "max        12.000000  "
      ]
     },
     "execution_count": 19,
     "metadata": {},
     "output_type": "execute_result"
    }
   ],
   "source": [
    "df.describe()"
   ]
  },
  {
   "cell_type": "markdown",
   "metadata": {},
   "source": [
    "# Visualization of the statistical analysis"
   ]
  },
  {
   "cell_type": "markdown",
   "metadata": {},
   "source": [
    "## Profit Analysis"
   ]
  },
  {
   "cell_type": "code",
   "execution_count": 22,
   "metadata": {},
   "outputs": [],
   "source": [
    "df['Profit'] = df['Price Charged'] - df['Cost of Trip']\n",
    "df['Average Profit per km'] = df['Profit']/ df['KM Travelled']"
   ]
  },
  {
   "cell_type": "code",
   "execution_count": 21,
   "metadata": {},
   "outputs": [
    {
     "data": {
      "text/plain": [
       "Company     City          \n",
       "Pink Cab    ATLANTA GA        9.605008e+04\n",
       "            AUSTIN TX         1.474453e+05\n",
       "            BOSTON MA         2.620017e+05\n",
       "            CHICAGO IL        3.187225e+05\n",
       "            DALLAS TX         2.473011e+04\n",
       "            DENVER CO         4.058494e+04\n",
       "            LOS ANGELES CA    1.125732e+06\n",
       "            MIAMI FL          1.623012e+05\n",
       "            NASHVILLE TN      6.428453e+04\n",
       "            NEW YORK NY       1.511474e+06\n",
       "            ORANGE COUNTY     1.019958e+05\n",
       "            PHOENIX AZ        3.559639e+04\n",
       "            PITTSBURGH PA     1.710774e+04\n",
       "            SACRAMENTO CA     5.532401e+04\n",
       "            SAN DIEGO CA      6.378898e+05\n",
       "            SEATTLE WA        1.127813e+05\n",
       "            SILICON VALLEY    3.402505e+05\n",
       "            TUCSON AZ         5.928958e+04\n",
       "            WASHINGTON DC     1.937664e+05\n",
       "Yellow Cab  ATLANTA GA        7.463828e+05\n",
       "            AUSTIN TX         3.792557e+05\n",
       "            BOSTON MA         1.506718e+06\n",
       "            CHICAGO IL        3.068591e+06\n",
       "            DALLAS TX         1.104003e+06\n",
       "            DENVER CO         3.570001e+05\n",
       "            LOS ANGELES CA    3.285977e+06\n",
       "            MIAMI FL          5.960001e+05\n",
       "            NASHVILLE TN      8.524768e+04\n",
       "            NEW YORK NY       2.645108e+07\n",
       "            ORANGE COUNTY     3.550060e+05\n",
       "            PHOENIX AZ        1.573445e+05\n",
       "            PITTSBURGH PA     6.805822e+04\n",
       "            SACRAMENTO CA     6.200218e+04\n",
       "            SAN DIEGO CA      9.492737e+05\n",
       "            SEATTLE WA        4.919035e+05\n",
       "            SILICON VALLEY    9.764547e+05\n",
       "            TUCSON AZ         8.097112e+04\n",
       "            WASHINGTON DC     3.299104e+06\n",
       "Name: Profit, dtype: float64"
      ]
     },
     "execution_count": 21,
     "metadata": {},
     "output_type": "execute_result"
    }
   ],
   "source": [
    "df.groupby(['Company','City'])['Profit'].sum()"
   ]
  },
  {
   "cell_type": "code",
   "execution_count": 22,
   "metadata": {},
   "outputs": [
    {
     "data": {
      "text/html": [
       "<div>\n",
       "<style scoped>\n",
       "    .dataframe tbody tr th:only-of-type {\n",
       "        vertical-align: middle;\n",
       "    }\n",
       "\n",
       "    .dataframe tbody tr th {\n",
       "        vertical-align: top;\n",
       "    }\n",
       "\n",
       "    .dataframe thead th {\n",
       "        text-align: right;\n",
       "    }\n",
       "</style>\n",
       "<table border=\"1\" class=\"dataframe\">\n",
       "  <thead>\n",
       "    <tr style=\"text-align: right;\">\n",
       "      <th></th>\n",
       "      <th></th>\n",
       "      <th>count</th>\n",
       "      <th>mean</th>\n",
       "      <th>std</th>\n",
       "      <th>min</th>\n",
       "      <th>25%</th>\n",
       "      <th>50%</th>\n",
       "      <th>75%</th>\n",
       "      <th>max</th>\n",
       "    </tr>\n",
       "    <tr>\n",
       "      <th>Company</th>\n",
       "      <th>City</th>\n",
       "      <th></th>\n",
       "      <th></th>\n",
       "      <th></th>\n",
       "      <th></th>\n",
       "      <th></th>\n",
       "      <th></th>\n",
       "      <th></th>\n",
       "      <th></th>\n",
       "    </tr>\n",
       "  </thead>\n",
       "  <tbody>\n",
       "    <tr>\n",
       "      <th rowspan=\"19\" valign=\"top\">Pink Cab</th>\n",
       "      <th>ATLANTA GA</th>\n",
       "      <td>1762.0</td>\n",
       "      <td>54.511961</td>\n",
       "      <td>67.799455</td>\n",
       "      <td>-96.3350</td>\n",
       "      <td>8.26200</td>\n",
       "      <td>38.6210</td>\n",
       "      <td>83.55300</td>\n",
       "      <td>460.2900</td>\n",
       "    </tr>\n",
       "    <tr>\n",
       "      <th>AUSTIN TX</th>\n",
       "      <td>1868.0</td>\n",
       "      <td>78.932168</td>\n",
       "      <td>81.469363</td>\n",
       "      <td>-120.9620</td>\n",
       "      <td>18.90400</td>\n",
       "      <td>55.8060</td>\n",
       "      <td>120.47675</td>\n",
       "      <td>586.3800</td>\n",
       "    </tr>\n",
       "    <tr>\n",
       "      <th>BOSTON MA</th>\n",
       "      <td>5186.0</td>\n",
       "      <td>50.520960</td>\n",
       "      <td>62.927089</td>\n",
       "      <td>-150.3800</td>\n",
       "      <td>8.94275</td>\n",
       "      <td>34.3880</td>\n",
       "      <td>78.63300</td>\n",
       "      <td>459.6400</td>\n",
       "    </tr>\n",
       "    <tr>\n",
       "      <th>CHICAGO IL</th>\n",
       "      <td>9361.0</td>\n",
       "      <td>34.047910</td>\n",
       "      <td>54.355025</td>\n",
       "      <td>-143.1300</td>\n",
       "      <td>1.26000</td>\n",
       "      <td>20.7900</td>\n",
       "      <td>56.34800</td>\n",
       "      <td>529.7200</td>\n",
       "    </tr>\n",
       "    <tr>\n",
       "      <th>DALLAS TX</th>\n",
       "      <td>1380.0</td>\n",
       "      <td>17.920371</td>\n",
       "      <td>58.363932</td>\n",
       "      <td>-220.0600</td>\n",
       "      <td>-14.07800</td>\n",
       "      <td>9.7170</td>\n",
       "      <td>45.34375</td>\n",
       "      <td>253.0000</td>\n",
       "    </tr>\n",
       "    <tr>\n",
       "      <th>DENVER CO</th>\n",
       "      <td>1394.0</td>\n",
       "      <td>29.114016</td>\n",
       "      <td>66.188412</td>\n",
       "      <td>-129.5400</td>\n",
       "      <td>-7.81150</td>\n",
       "      <td>15.2180</td>\n",
       "      <td>58.79900</td>\n",
       "      <td>392.3600</td>\n",
       "    </tr>\n",
       "    <tr>\n",
       "      <th>LOS ANGELES CA</th>\n",
       "      <td>19865.0</td>\n",
       "      <td>56.669120</td>\n",
       "      <td>66.037961</td>\n",
       "      <td>-113.8900</td>\n",
       "      <td>11.26000</td>\n",
       "      <td>38.4700</td>\n",
       "      <td>84.75600</td>\n",
       "      <td>585.6220</td>\n",
       "    </tr>\n",
       "    <tr>\n",
       "      <th>MIAMI FL</th>\n",
       "      <td>2002.0</td>\n",
       "      <td>81.069526</td>\n",
       "      <td>130.086043</td>\n",
       "      <td>-160.5360</td>\n",
       "      <td>11.40650</td>\n",
       "      <td>43.7235</td>\n",
       "      <td>106.06700</td>\n",
       "      <td>1119.4800</td>\n",
       "    </tr>\n",
       "    <tr>\n",
       "      <th>NASHVILLE TN</th>\n",
       "      <td>1841.0</td>\n",
       "      <td>34.918269</td>\n",
       "      <td>70.711780</td>\n",
       "      <td>-153.2500</td>\n",
       "      <td>-4.41000</td>\n",
       "      <td>16.9900</td>\n",
       "      <td>58.11000</td>\n",
       "      <td>495.3140</td>\n",
       "    </tr>\n",
       "    <tr>\n",
       "      <th>NEW YORK NY</th>\n",
       "      <td>13967.0</td>\n",
       "      <td>108.217540</td>\n",
       "      <td>95.864001</td>\n",
       "      <td>-103.9600</td>\n",
       "      <td>34.51000</td>\n",
       "      <td>82.8900</td>\n",
       "      <td>157.63100</td>\n",
       "      <td>657.1180</td>\n",
       "    </tr>\n",
       "    <tr>\n",
       "      <th>ORANGE COUNTY</th>\n",
       "      <td>1513.0</td>\n",
       "      <td>67.412976</td>\n",
       "      <td>78.733288</td>\n",
       "      <td>-87.6880</td>\n",
       "      <td>14.10000</td>\n",
       "      <td>45.5320</td>\n",
       "      <td>97.63600</td>\n",
       "      <td>567.5700</td>\n",
       "    </tr>\n",
       "    <tr>\n",
       "      <th>PHOENIX AZ</th>\n",
       "      <td>864.0</td>\n",
       "      <td>41.199530</td>\n",
       "      <td>71.107065</td>\n",
       "      <td>-137.5200</td>\n",
       "      <td>-0.33825</td>\n",
       "      <td>23.2345</td>\n",
       "      <td>72.23025</td>\n",
       "      <td>370.3600</td>\n",
       "    </tr>\n",
       "    <tr>\n",
       "      <th>PITTSBURGH PA</th>\n",
       "      <td>682.0</td>\n",
       "      <td>25.084660</td>\n",
       "      <td>70.441512</td>\n",
       "      <td>-147.4770</td>\n",
       "      <td>-11.55025</td>\n",
       "      <td>7.4980</td>\n",
       "      <td>53.20800</td>\n",
       "      <td>444.3550</td>\n",
       "    </tr>\n",
       "    <tr>\n",
       "      <th>SACRAMENTO CA</th>\n",
       "      <td>1334.0</td>\n",
       "      <td>41.472273</td>\n",
       "      <td>65.942870</td>\n",
       "      <td>-123.2500</td>\n",
       "      <td>1.99750</td>\n",
       "      <td>24.0610</td>\n",
       "      <td>64.31425</td>\n",
       "      <td>438.6760</td>\n",
       "    </tr>\n",
       "    <tr>\n",
       "      <th>SAN DIEGO CA</th>\n",
       "      <td>10672.0</td>\n",
       "      <td>59.772280</td>\n",
       "      <td>62.542443</td>\n",
       "      <td>-100.2300</td>\n",
       "      <td>14.49950</td>\n",
       "      <td>43.2000</td>\n",
       "      <td>89.56700</td>\n",
       "      <td>498.1700</td>\n",
       "    </tr>\n",
       "    <tr>\n",
       "      <th>SEATTLE WA</th>\n",
       "      <td>2732.0</td>\n",
       "      <td>41.281601</td>\n",
       "      <td>61.973258</td>\n",
       "      <td>-144.5800</td>\n",
       "      <td>2.99350</td>\n",
       "      <td>26.8390</td>\n",
       "      <td>67.31300</td>\n",
       "      <td>377.0100</td>\n",
       "    </tr>\n",
       "    <tr>\n",
       "      <th>SILICON VALLEY</th>\n",
       "      <td>3797.0</td>\n",
       "      <td>89.610358</td>\n",
       "      <td>80.531877</td>\n",
       "      <td>-91.8870</td>\n",
       "      <td>28.69400</td>\n",
       "      <td>68.0660</td>\n",
       "      <td>128.32800</td>\n",
       "      <td>530.8400</td>\n",
       "    </tr>\n",
       "    <tr>\n",
       "      <th>TUCSON AZ</th>\n",
       "      <td>799.0</td>\n",
       "      <td>74.204725</td>\n",
       "      <td>98.441283</td>\n",
       "      <td>-129.9900</td>\n",
       "      <td>10.07900</td>\n",
       "      <td>50.0300</td>\n",
       "      <td>104.72700</td>\n",
       "      <td>785.0800</td>\n",
       "    </tr>\n",
       "    <tr>\n",
       "      <th>WASHINGTON DC</th>\n",
       "      <td>3692.0</td>\n",
       "      <td>52.482761</td>\n",
       "      <td>59.873333</td>\n",
       "      <td>-89.2600</td>\n",
       "      <td>10.48150</td>\n",
       "      <td>36.1400</td>\n",
       "      <td>79.39450</td>\n",
       "      <td>430.3100</td>\n",
       "    </tr>\n",
       "    <tr>\n",
       "      <th rowspan=\"19\" valign=\"top\">Yellow Cab</th>\n",
       "      <th>ATLANTA GA</th>\n",
       "      <td>5795.0</td>\n",
       "      <td>128.797723</td>\n",
       "      <td>111.675089</td>\n",
       "      <td>-88.4464</td>\n",
       "      <td>44.60720</td>\n",
       "      <td>100.4120</td>\n",
       "      <td>182.54420</td>\n",
       "      <td>944.1908</td>\n",
       "    </tr>\n",
       "    <tr>\n",
       "      <th>AUSTIN TX</th>\n",
       "      <td>3028.0</td>\n",
       "      <td>125.249582</td>\n",
       "      <td>118.649697</td>\n",
       "      <td>-72.8820</td>\n",
       "      <td>38.97900</td>\n",
       "      <td>92.1730</td>\n",
       "      <td>175.04850</td>\n",
       "      <td>828.6044</td>\n",
       "    </tr>\n",
       "    <tr>\n",
       "      <th>BOSTON MA</th>\n",
       "      <td>24506.0</td>\n",
       "      <td>61.483619</td>\n",
       "      <td>70.339187</td>\n",
       "      <td>-134.2040</td>\n",
       "      <td>12.21550</td>\n",
       "      <td>43.1592</td>\n",
       "      <td>94.98850</td>\n",
       "      <td>491.7060</td>\n",
       "    </tr>\n",
       "    <tr>\n",
       "      <th>CHICAGO IL</th>\n",
       "      <td>47264.0</td>\n",
       "      <td>64.924486</td>\n",
       "      <td>76.860634</td>\n",
       "      <td>-145.9468</td>\n",
       "      <td>12.40000</td>\n",
       "      <td>43.7380</td>\n",
       "      <td>97.55040</td>\n",
       "      <td>785.4480</td>\n",
       "    </tr>\n",
       "    <tr>\n",
       "      <th>DALLAS TX</th>\n",
       "      <td>5637.0</td>\n",
       "      <td>195.849415</td>\n",
       "      <td>150.268350</td>\n",
       "      <td>-4.8876</td>\n",
       "      <td>80.56600</td>\n",
       "      <td>160.9900</td>\n",
       "      <td>272.70240</td>\n",
       "      <td>1085.1320</td>\n",
       "    </tr>\n",
       "    <tr>\n",
       "      <th>DENVER CO</th>\n",
       "      <td>2431.0</td>\n",
       "      <td>146.853175</td>\n",
       "      <td>123.606869</td>\n",
       "      <td>-54.7904</td>\n",
       "      <td>53.07500</td>\n",
       "      <td>117.5832</td>\n",
       "      <td>206.04440</td>\n",
       "      <td>756.0468</td>\n",
       "    </tr>\n",
       "    <tr>\n",
       "      <th>LOS ANGELES CA</th>\n",
       "      <td>28168.0</td>\n",
       "      <td>116.656368</td>\n",
       "      <td>104.625538</td>\n",
       "      <td>-115.8580</td>\n",
       "      <td>38.03980</td>\n",
       "      <td>89.4826</td>\n",
       "      <td>167.23020</td>\n",
       "      <td>961.3940</td>\n",
       "    </tr>\n",
       "    <tr>\n",
       "      <th>MIAMI FL</th>\n",
       "      <td>4452.0</td>\n",
       "      <td>133.872429</td>\n",
       "      <td>116.606471</td>\n",
       "      <td>-45.4892</td>\n",
       "      <td>45.79150</td>\n",
       "      <td>102.3762</td>\n",
       "      <td>192.37650</td>\n",
       "      <td>793.6400</td>\n",
       "    </tr>\n",
       "    <tr>\n",
       "      <th>NASHVILLE TN</th>\n",
       "      <td>1169.0</td>\n",
       "      <td>72.923597</td>\n",
       "      <td>89.188281</td>\n",
       "      <td>-135.8752</td>\n",
       "      <td>14.57960</td>\n",
       "      <td>50.3016</td>\n",
       "      <td>110.04200</td>\n",
       "      <td>779.7460</td>\n",
       "    </tr>\n",
       "    <tr>\n",
       "      <th>NEW YORK NY</th>\n",
       "      <td>85918.0</td>\n",
       "      <td>307.864252</td>\n",
       "      <td>201.207094</td>\n",
       "      <td>7.2740</td>\n",
       "      <td>147.24200</td>\n",
       "      <td>277.4780</td>\n",
       "      <td>430.66970</td>\n",
       "      <td>1463.9660</td>\n",
       "    </tr>\n",
       "    <tr>\n",
       "      <th>ORANGE COUNTY</th>\n",
       "      <td>2469.0</td>\n",
       "      <td>143.785355</td>\n",
       "      <td>147.135267</td>\n",
       "      <td>-56.7772</td>\n",
       "      <td>41.47560</td>\n",
       "      <td>97.9208</td>\n",
       "      <td>204.02600</td>\n",
       "      <td>1169.3420</td>\n",
       "    </tr>\n",
       "    <tr>\n",
       "      <th>PHOENIX AZ</th>\n",
       "      <td>1200.0</td>\n",
       "      <td>131.120407</td>\n",
       "      <td>115.304407</td>\n",
       "      <td>-53.4684</td>\n",
       "      <td>45.41900</td>\n",
       "      <td>100.3830</td>\n",
       "      <td>188.11450</td>\n",
       "      <td>632.4428</td>\n",
       "    </tr>\n",
       "    <tr>\n",
       "      <th>PITTSBURGH PA</th>\n",
       "      <td>631.0</td>\n",
       "      <td>107.857716</td>\n",
       "      <td>155.384801</td>\n",
       "      <td>-118.1952</td>\n",
       "      <td>21.00420</td>\n",
       "      <td>65.1520</td>\n",
       "      <td>143.34140</td>\n",
       "      <td>1399.1100</td>\n",
       "    </tr>\n",
       "    <tr>\n",
       "      <th>SACRAMENTO CA</th>\n",
       "      <td>1033.0</td>\n",
       "      <td>60.021471</td>\n",
       "      <td>96.069702</td>\n",
       "      <td>-160.7140</td>\n",
       "      <td>3.80360</td>\n",
       "      <td>32.7540</td>\n",
       "      <td>88.92000</td>\n",
       "      <td>1048.2844</td>\n",
       "    </tr>\n",
       "    <tr>\n",
       "      <th>SAN DIEGO CA</th>\n",
       "      <td>9816.0</td>\n",
       "      <td>96.706775</td>\n",
       "      <td>89.013208</td>\n",
       "      <td>-82.7644</td>\n",
       "      <td>30.14200</td>\n",
       "      <td>73.0010</td>\n",
       "      <td>139.49260</td>\n",
       "      <td>853.2004</td>\n",
       "    </tr>\n",
       "    <tr>\n",
       "      <th>SEATTLE WA</th>\n",
       "      <td>5265.0</td>\n",
       "      <td>93.428968</td>\n",
       "      <td>88.968770</td>\n",
       "      <td>-91.2500</td>\n",
       "      <td>29.73400</td>\n",
       "      <td>69.8232</td>\n",
       "      <td>135.59200</td>\n",
       "      <td>787.2540</td>\n",
       "    </tr>\n",
       "    <tr>\n",
       "      <th>SILICON VALLEY</th>\n",
       "      <td>4722.0</td>\n",
       "      <td>206.788383</td>\n",
       "      <td>151.065554</td>\n",
       "      <td>2.3176</td>\n",
       "      <td>91.22150</td>\n",
       "      <td>176.2572</td>\n",
       "      <td>284.31250</td>\n",
       "      <td>1387.9860</td>\n",
       "    </tr>\n",
       "    <tr>\n",
       "      <th>TUCSON AZ</th>\n",
       "      <td>1132.0</td>\n",
       "      <td>71.529258</td>\n",
       "      <td>94.791843</td>\n",
       "      <td>-176.9308</td>\n",
       "      <td>10.83660</td>\n",
       "      <td>46.0220</td>\n",
       "      <td>108.04250</td>\n",
       "      <td>788.3188</td>\n",
       "    </tr>\n",
       "    <tr>\n",
       "      <th>WASHINGTON DC</th>\n",
       "      <td>40045.0</td>\n",
       "      <td>82.384912</td>\n",
       "      <td>83.588710</td>\n",
       "      <td>-118.5260</td>\n",
       "      <td>21.51280</td>\n",
       "      <td>58.9596</td>\n",
       "      <td>121.19000</td>\n",
       "      <td>613.8000</td>\n",
       "    </tr>\n",
       "  </tbody>\n",
       "</table>\n",
       "</div>"
      ],
      "text/plain": [
       "                             count        mean         std       min  \\\n",
       "Company    City                                                        \n",
       "Pink Cab   ATLANTA GA       1762.0   54.511961   67.799455  -96.3350   \n",
       "           AUSTIN TX        1868.0   78.932168   81.469363 -120.9620   \n",
       "           BOSTON MA        5186.0   50.520960   62.927089 -150.3800   \n",
       "           CHICAGO IL       9361.0   34.047910   54.355025 -143.1300   \n",
       "           DALLAS TX        1380.0   17.920371   58.363932 -220.0600   \n",
       "           DENVER CO        1394.0   29.114016   66.188412 -129.5400   \n",
       "           LOS ANGELES CA  19865.0   56.669120   66.037961 -113.8900   \n",
       "           MIAMI FL         2002.0   81.069526  130.086043 -160.5360   \n",
       "           NASHVILLE TN     1841.0   34.918269   70.711780 -153.2500   \n",
       "           NEW YORK NY     13967.0  108.217540   95.864001 -103.9600   \n",
       "           ORANGE COUNTY    1513.0   67.412976   78.733288  -87.6880   \n",
       "           PHOENIX AZ        864.0   41.199530   71.107065 -137.5200   \n",
       "           PITTSBURGH PA     682.0   25.084660   70.441512 -147.4770   \n",
       "           SACRAMENTO CA    1334.0   41.472273   65.942870 -123.2500   \n",
       "           SAN DIEGO CA    10672.0   59.772280   62.542443 -100.2300   \n",
       "           SEATTLE WA       2732.0   41.281601   61.973258 -144.5800   \n",
       "           SILICON VALLEY   3797.0   89.610358   80.531877  -91.8870   \n",
       "           TUCSON AZ         799.0   74.204725   98.441283 -129.9900   \n",
       "           WASHINGTON DC    3692.0   52.482761   59.873333  -89.2600   \n",
       "Yellow Cab ATLANTA GA       5795.0  128.797723  111.675089  -88.4464   \n",
       "           AUSTIN TX        3028.0  125.249582  118.649697  -72.8820   \n",
       "           BOSTON MA       24506.0   61.483619   70.339187 -134.2040   \n",
       "           CHICAGO IL      47264.0   64.924486   76.860634 -145.9468   \n",
       "           DALLAS TX        5637.0  195.849415  150.268350   -4.8876   \n",
       "           DENVER CO        2431.0  146.853175  123.606869  -54.7904   \n",
       "           LOS ANGELES CA  28168.0  116.656368  104.625538 -115.8580   \n",
       "           MIAMI FL         4452.0  133.872429  116.606471  -45.4892   \n",
       "           NASHVILLE TN     1169.0   72.923597   89.188281 -135.8752   \n",
       "           NEW YORK NY     85918.0  307.864252  201.207094    7.2740   \n",
       "           ORANGE COUNTY    2469.0  143.785355  147.135267  -56.7772   \n",
       "           PHOENIX AZ       1200.0  131.120407  115.304407  -53.4684   \n",
       "           PITTSBURGH PA     631.0  107.857716  155.384801 -118.1952   \n",
       "           SACRAMENTO CA    1033.0   60.021471   96.069702 -160.7140   \n",
       "           SAN DIEGO CA     9816.0   96.706775   89.013208  -82.7644   \n",
       "           SEATTLE WA       5265.0   93.428968   88.968770  -91.2500   \n",
       "           SILICON VALLEY   4722.0  206.788383  151.065554    2.3176   \n",
       "           TUCSON AZ        1132.0   71.529258   94.791843 -176.9308   \n",
       "           WASHINGTON DC   40045.0   82.384912   83.588710 -118.5260   \n",
       "\n",
       "                                 25%       50%        75%        max  \n",
       "Company    City                                                       \n",
       "Pink Cab   ATLANTA GA        8.26200   38.6210   83.55300   460.2900  \n",
       "           AUSTIN TX        18.90400   55.8060  120.47675   586.3800  \n",
       "           BOSTON MA         8.94275   34.3880   78.63300   459.6400  \n",
       "           CHICAGO IL        1.26000   20.7900   56.34800   529.7200  \n",
       "           DALLAS TX       -14.07800    9.7170   45.34375   253.0000  \n",
       "           DENVER CO        -7.81150   15.2180   58.79900   392.3600  \n",
       "           LOS ANGELES CA   11.26000   38.4700   84.75600   585.6220  \n",
       "           MIAMI FL         11.40650   43.7235  106.06700  1119.4800  \n",
       "           NASHVILLE TN     -4.41000   16.9900   58.11000   495.3140  \n",
       "           NEW YORK NY      34.51000   82.8900  157.63100   657.1180  \n",
       "           ORANGE COUNTY    14.10000   45.5320   97.63600   567.5700  \n",
       "           PHOENIX AZ       -0.33825   23.2345   72.23025   370.3600  \n",
       "           PITTSBURGH PA   -11.55025    7.4980   53.20800   444.3550  \n",
       "           SACRAMENTO CA     1.99750   24.0610   64.31425   438.6760  \n",
       "           SAN DIEGO CA     14.49950   43.2000   89.56700   498.1700  \n",
       "           SEATTLE WA        2.99350   26.8390   67.31300   377.0100  \n",
       "           SILICON VALLEY   28.69400   68.0660  128.32800   530.8400  \n",
       "           TUCSON AZ        10.07900   50.0300  104.72700   785.0800  \n",
       "           WASHINGTON DC    10.48150   36.1400   79.39450   430.3100  \n",
       "Yellow Cab ATLANTA GA       44.60720  100.4120  182.54420   944.1908  \n",
       "           AUSTIN TX        38.97900   92.1730  175.04850   828.6044  \n",
       "           BOSTON MA        12.21550   43.1592   94.98850   491.7060  \n",
       "           CHICAGO IL       12.40000   43.7380   97.55040   785.4480  \n",
       "           DALLAS TX        80.56600  160.9900  272.70240  1085.1320  \n",
       "           DENVER CO        53.07500  117.5832  206.04440   756.0468  \n",
       "           LOS ANGELES CA   38.03980   89.4826  167.23020   961.3940  \n",
       "           MIAMI FL         45.79150  102.3762  192.37650   793.6400  \n",
       "           NASHVILLE TN     14.57960   50.3016  110.04200   779.7460  \n",
       "           NEW YORK NY     147.24200  277.4780  430.66970  1463.9660  \n",
       "           ORANGE COUNTY    41.47560   97.9208  204.02600  1169.3420  \n",
       "           PHOENIX AZ       45.41900  100.3830  188.11450   632.4428  \n",
       "           PITTSBURGH PA    21.00420   65.1520  143.34140  1399.1100  \n",
       "           SACRAMENTO CA     3.80360   32.7540   88.92000  1048.2844  \n",
       "           SAN DIEGO CA     30.14200   73.0010  139.49260   853.2004  \n",
       "           SEATTLE WA       29.73400   69.8232  135.59200   787.2540  \n",
       "           SILICON VALLEY   91.22150  176.2572  284.31250  1387.9860  \n",
       "           TUCSON AZ        10.83660   46.0220  108.04250   788.3188  \n",
       "           WASHINGTON DC    21.51280   58.9596  121.19000   613.8000  "
      ]
     },
     "execution_count": 22,
     "metadata": {},
     "output_type": "execute_result"
    }
   ],
   "source": [
    "df.groupby(['Company','City'])['Profit'].describe()"
   ]
  },
  {
   "cell_type": "code",
   "execution_count": 23,
   "metadata": {},
   "outputs": [
    {
     "data": {
      "text/plain": [
       "<matplotlib.legend.Legend at 0x7f285289faf0>"
      ]
     },
     "execution_count": 23,
     "metadata": {},
     "output_type": "execute_result"
    },
    {
     "data": {
      "image/png": "[encoded data removed]",
      "text/plain": [
       "<Figure size 720x720 with 1 Axes>"
      ]
     },
     "metadata": {
      "needs_background": "light"
     },
     "output_type": "display_data"
    }
   ],
   "source": [
    "fig_dims = (10, 10)\n",
    "fig, ax = plt.subplots(figsize=fig_dims)\n",
    "sns.distplot(df[df['Company'] == 'Yellow Cab']['Profit'], color = '#ffd343', label = 'Yellow Cab',ax = ax).legend()\n",
    "sns.distplot(df[df['Company'] == 'Pink Cab']['Profit'], color = '#fd6bbe', label = 'Pink Cab',ax = ax).legend()"
   ]
  },
  {
   "cell_type": "code",
   "execution_count": 24,
   "metadata": {},
   "outputs": [
    {
     "data": {
      "text/plain": [
       "<matplotlib.axes._subplots.AxesSubplot at 0x7f2852936460>"
      ]
     },
     "execution_count": 24,
     "metadata": {},
     "output_type": "execute_result"
    },
    {
     "data": {
      "image/png": "[encoded data removed]",
      "text/plain": [
       "<Figure size 720x720 with 1 Axes>"
      ]
     },
     "metadata": {
      "needs_background": "light"
     },
     "output_type": "display_data"
    }
   ],
   "source": [
    "fig_dims = (10, 10)\n",
    "fig, ax = plt.subplots(figsize=fig_dims)\n",
    "colors = ['#fd6bbe','#ffd343']\n",
    "customPalette = sns.set_palette(sns.color_palette(colors))\n",
    "sns.barplot(x = 'Profit', y = 'City', data = df, hue = 'Company', ax = ax, palette=customPalette)"
   ]
  },
  {
   "cell_type": "code",
   "execution_count": 25,
   "metadata": {},
   "outputs": [
    {
     "data": {
      "text/plain": [
       "<matplotlib.axes._subplots.AxesSubplot at 0x7f28525c1820>"
      ]
     },
     "execution_count": 25,
     "metadata": {},
     "output_type": "execute_result"
    },
    {
     "data": {
      "image/png": "[encoded data removed]",
      "text/plain": [
       "<Figure size 360x360 with 1 Axes>"
      ]
     },
     "metadata": {
      "needs_background": "light"
     },
     "output_type": "display_data"
    }
   ],
   "source": [
    "fig_dims = (5, 5)\n",
    "fig, ax = plt.subplots(figsize=fig_dims)\n",
    "colors1 = ['#fd6bbe','#ffd343']\n",
    "customPalette1 = sns.set_palette(sns.color_palette(colors1))\n",
    "sns.barplot(x = 'year', y = 'Profit', data = df, hue = 'Company',ax = ax,palette=customPalette1)"
   ]
  },
  {
   "cell_type": "code",
   "execution_count": 26,
   "metadata": {},
   "outputs": [
    {
     "data": {
      "text/html": [
       "<div>\n",
       "<style scoped>\n",
       "    .dataframe tbody tr th:only-of-type {\n",
       "        vertical-align: middle;\n",
       "    }\n",
       "\n",
       "    .dataframe tbody tr th {\n",
       "        vertical-align: top;\n",
       "    }\n",
       "\n",
       "    .dataframe thead th {\n",
       "        text-align: right;\n",
       "    }\n",
       "</style>\n",
       "<table border=\"1\" class=\"dataframe\">\n",
       "  <thead>\n",
       "    <tr style=\"text-align: right;\">\n",
       "      <th></th>\n",
       "      <th>count</th>\n",
       "      <th>mean</th>\n",
       "      <th>std</th>\n",
       "      <th>min</th>\n",
       "      <th>25%</th>\n",
       "      <th>50%</th>\n",
       "      <th>75%</th>\n",
       "      <th>max</th>\n",
       "    </tr>\n",
       "    <tr>\n",
       "      <th>Company</th>\n",
       "      <th></th>\n",
       "      <th></th>\n",
       "      <th></th>\n",
       "      <th></th>\n",
       "      <th></th>\n",
       "      <th></th>\n",
       "      <th></th>\n",
       "      <th></th>\n",
       "    </tr>\n",
       "  </thead>\n",
       "  <tbody>\n",
       "    <tr>\n",
       "      <th>Pink Cab</th>\n",
       "      <td>84711.0</td>\n",
       "      <td>62.652174</td>\n",
       "      <td>77.590378</td>\n",
       "      <td>-220.0600</td>\n",
       "      <td>11.206</td>\n",
       "      <td>41.5</td>\n",
       "      <td>93.9650</td>\n",
       "      <td>1119.480</td>\n",
       "    </tr>\n",
       "    <tr>\n",
       "      <th>Yellow Cab</th>\n",
       "      <td>274681.0</td>\n",
       "      <td>160.259986</td>\n",
       "      <td>171.823833</td>\n",
       "      <td>-176.9308</td>\n",
       "      <td>37.180</td>\n",
       "      <td>102.0</td>\n",
       "      <td>228.6704</td>\n",
       "      <td>1463.966</td>\n",
       "    </tr>\n",
       "  </tbody>\n",
       "</table>\n",
       "</div>"
      ],
      "text/plain": [
       "               count        mean         std       min     25%    50%  \\\n",
       "Company                                                                 \n",
       "Pink Cab     84711.0   62.652174   77.590378 -220.0600  11.206   41.5   \n",
       "Yellow Cab  274681.0  160.259986  171.823833 -176.9308  37.180  102.0   \n",
       "\n",
       "                 75%       max  \n",
       "Company                         \n",
       "Pink Cab     93.9650  1119.480  \n",
       "Yellow Cab  228.6704  1463.966  "
      ]
     },
     "execution_count": 26,
     "metadata": {},
     "output_type": "execute_result"
    }
   ],
   "source": [
    "df.groupby(['Company'])['Profit'].describe()"
   ]
  },
  {
   "cell_type": "markdown",
   "metadata": {},
   "source": [
    "### Hypothesis 1\n",
    "Null hypothesis: Pink Cab's profit is greater than or equal to  Yellow Cab profit\n",
    "<br> \n",
    "Alternative hypothesis: Pink Cab's profit is smaller than Yellow Cab profit"
   ]
  },
  {
   "cell_type": "code",
   "execution_count": 27,
   "metadata": {},
   "outputs": [
    {
     "data": {
      "text/plain": [
       "(-160.37151759478056, 0.0, 359390.0)"
      ]
     },
     "execution_count": 27,
     "metadata": {},
     "output_type": "execute_result"
    }
   ],
   "source": [
    "from statsmodels.stats.weightstats import ttest_ind\n",
    "\n",
    "pink = df[df['Company']=='Pink Cab']\n",
    "yellow = df[df['Company']=='Yellow Cab']\n",
    "\n",
    "ttest_ind(pink['Profit'], yellow['Profit'], alternative= 'smaller')"
   ]
  },
  {
   "cell_type": "code",
   "execution_count": 186,
   "metadata": {},
   "outputs": [
    {
     "data": {
      "text/plain": [
       "<matplotlib.legend.Legend at 0x7fbf00bb8cd0>"
      ]
     },
     "execution_count": 186,
     "metadata": {},
     "output_type": "execute_result"
    },
    {
     "data": {
      "image/png": "[encoded data removed]",
      "text/plain": [
       "<Figure size 720x720 with 1 Axes>"
      ]
     },
     "metadata": {
      "needs_background": "light"
     },
     "output_type": "display_data"
    }
   ],
   "source": [
    "fig_dims = (10, 10)\n",
    "fig, ax = plt.subplots(figsize=fig_dims)\n",
    "sns.distplot(df[df['Company'] == 'Yellow Cab']['Average Profit per km'], color = '#ffd343', label = 'Yellow Cab',ax = ax).legend()\n",
    "sns.distplot(df[df['Company'] == 'Pink Cab']['Average Profit per km'], color = '#fd6bbe', label = 'Pink Cab',ax = ax).legend()"
   ]
  },
  {
   "cell_type": "code",
   "execution_count": 11,
   "metadata": {},
   "outputs": [
    {
     "data": {
      "text/plain": [
       "count    84711.000000\n",
       "mean         2.769908\n",
       "std          2.697212\n",
       "min         -4.912054\n",
       "25%          0.891572\n",
       "50%          2.423598\n",
       "75%          4.281847\n",
       "max         28.646939\n",
       "Name: Average Profit per km, dtype: float64"
      ]
     },
     "execution_count": 11,
     "metadata": {},
     "output_type": "execute_result"
    }
   ],
   "source": [
    "df[df['Company']=='Pink Cab']['Average Profit per km'].describe()"
   ]
  },
  {
   "cell_type": "code",
   "execution_count": 12,
   "metadata": {},
   "outputs": [
    {
     "data": {
      "text/plain": [
       "count    274681.000000\n",
       "mean          7.105508\n",
       "std           5.790791\n",
       "min          -4.998235\n",
       "25%           2.601667\n",
       "50%           5.601623\n",
       "75%          10.889670\n",
       "max          41.115556\n",
       "Name: Average Profit per km, dtype: float64"
      ]
     },
     "execution_count": 12,
     "metadata": {},
     "output_type": "execute_result"
    }
   ],
   "source": [
    "df[df['Company']=='Yellow Cab']['Average Profit per km'].describe()"
   ]
  },
  {
   "cell_type": "markdown",
   "metadata": {},
   "source": [
    "### Hypothesis 2\n",
    "Null hypothesis: Pink Cab's average profit per km is greater than or equal to  Yellow Cab Average Profit per km\n",
    "<br> \n",
    "Alternative hypothesis: Pink Cab's average profit per km is smaller than Yellow Cab Average Profit per km"
   ]
  },
  {
   "cell_type": "code",
   "execution_count": 24,
   "metadata": {},
   "outputs": [
    {
     "data": {
      "text/plain": [
       "(-210.96861574553887, 0.0, 359390.0)"
      ]
     },
     "execution_count": 24,
     "metadata": {},
     "output_type": "execute_result"
    }
   ],
   "source": [
    "from statsmodels.stats.weightstats import ttest_ind\n",
    "\n",
    "pink = df[df['Company']=='Pink Cab']['Average Profit per km']\n",
    "yellow = df[df['Company']=='Yellow Cab']['Average Profit per km']\n",
    "\n",
    "ttest_ind(pink, yellow, alternative=\"smaller\")"
   ]
  },
  {
   "cell_type": "code",
   "execution_count": 30,
   "metadata": {},
   "outputs": [],
   "source": [
    "df.drop(['Profit','Average Profit per km'], axis='columns', inplace = True)"
   ]
  },
  {
   "cell_type": "markdown",
   "metadata": {},
   "source": [
    "## Customer Analysis"
   ]
  },
  {
   "cell_type": "code",
   "execution_count": 6,
   "metadata": {},
   "outputs": [],
   "source": [
    "df_customer = df.copy()\n",
    "df_customer.drop_duplicates(subset=['Company','Customer ID'], inplace = True)"
   ]
  },
  {
   "cell_type": "code",
   "execution_count": 188,
   "metadata": {},
   "outputs": [
    {
     "data": {
      "text/plain": [
       "Company     City          \n",
       "Pink Cab    ATLANTA GA        1322\n",
       "            AUSTIN TX         1354\n",
       "            BOSTON MA         2463\n",
       "            CHICAGO IL        2859\n",
       "            DALLAS TX         1118\n",
       "            DENVER CO         1145\n",
       "            LOS ANGELES CA    2996\n",
       "            MIAMI FL          1480\n",
       "            NASHVILLE TN      1356\n",
       "            NEW YORK NY       2972\n",
       "            ORANGE COUNTY     1198\n",
       "            PHOENIX AZ         763\n",
       "            PITTSBURGH PA      604\n",
       "            SACRAMENTO CA     1078\n",
       "            SAN DIEGO CA      2909\n",
       "            SEATTLE WA        1790\n",
       "            SILICON VALLEY    2130\n",
       "            TUCSON AZ          684\n",
       "            WASHINGTON DC     2109\n",
       "Yellow Cab  ATLANTA GA        2595\n",
       "            AUSTIN TX         1914\n",
       "            BOSTON MA         2997\n",
       "            CHICAGO IL        3000\n",
       "            DALLAS TX         2564\n",
       "            DENVER CO         1681\n",
       "            LOS ANGELES CA    2998\n",
       "            MIAMI FL          2334\n",
       "            NASHVILLE TN       965\n",
       "            NEW YORK NY       3000\n",
       "            ORANGE COUNTY     1712\n",
       "            PHOENIX AZ         994\n",
       "            PITTSBURGH PA      574\n",
       "            SACRAMENTO CA      880\n",
       "            SAN DIEGO CA      2886\n",
       "            SEATTLE WA        2486\n",
       "            SILICON VALLEY    2382\n",
       "            TUCSON AZ          934\n",
       "            WASHINGTON DC     3000\n",
       "Name: Customer ID, dtype: int64"
      ]
     },
     "execution_count": 188,
     "metadata": {},
     "output_type": "execute_result"
    }
   ],
   "source": [
    "df_customer.groupby(['Company','City'])['Customer ID'].count()"
   ]
  },
  {
   "cell_type": "code",
   "execution_count": 179,
   "metadata": {},
   "outputs": [
    {
     "data": {
      "text/plain": [
       "<seaborn.axisgrid.FacetGrid at 0x7fbf008b4f70>"
      ]
     },
     "execution_count": 179,
     "metadata": {},
     "output_type": "execute_result"
    },
    {
     "data": {
      "image/png": "[encoded data removed]",
      "text/plain": [
       "<Figure size 953x360 with 2 Axes>"
      ]
     },
     "metadata": {
      "needs_background": "light"
     },
     "output_type": "display_data"
    }
   ],
   "source": [
    "colors2 = ['#fd6bbe','#ffd343']\n",
    "customPalette2 = sns.set_palette(sns.color_palette(colors2))\n",
    "sns.catplot(y=\"City\", hue=\"Company\", col=\"Gender\",data=df_income, kind=\"count\", palette=customPalette2, height = 5,aspect = 1.2)"
   ]
  },
  {
   "cell_type": "code",
   "execution_count": 98,
   "metadata": {},
   "outputs": [
    {
     "data": {
      "text/html": [
       "<div>\n",
       "<style scoped>\n",
       "    .dataframe tbody tr th:only-of-type {\n",
       "        vertical-align: middle;\n",
       "    }\n",
       "\n",
       "    .dataframe tbody tr th {\n",
       "        vertical-align: top;\n",
       "    }\n",
       "\n",
       "    .dataframe thead th {\n",
       "        text-align: right;\n",
       "    }\n",
       "</style>\n",
       "<table border=\"1\" class=\"dataframe\">\n",
       "  <thead>\n",
       "    <tr style=\"text-align: right;\">\n",
       "      <th></th>\n",
       "      <th></th>\n",
       "      <th>Customer ID</th>\n",
       "    </tr>\n",
       "    <tr>\n",
       "      <th>Company</th>\n",
       "      <th>Gender</th>\n",
       "      <th></th>\n",
       "    </tr>\n",
       "  </thead>\n",
       "  <tbody>\n",
       "    <tr>\n",
       "      <th rowspan=\"2\" valign=\"top\">Pink Cab</th>\n",
       "      <th>Female</th>\n",
       "      <td>14819</td>\n",
       "    </tr>\n",
       "    <tr>\n",
       "      <th>Male</th>\n",
       "      <td>17511</td>\n",
       "    </tr>\n",
       "    <tr>\n",
       "      <th rowspan=\"2\" valign=\"top\">Yellow Cab</th>\n",
       "      <th>Female</th>\n",
       "      <td>18394</td>\n",
       "    </tr>\n",
       "    <tr>\n",
       "      <th>Male</th>\n",
       "      <td>21502</td>\n",
       "    </tr>\n",
       "  </tbody>\n",
       "</table>\n",
       "</div>"
      ],
      "text/plain": [
       "                   Customer ID\n",
       "Company    Gender             \n",
       "Pink Cab   Female        14819\n",
       "           Male          17511\n",
       "Yellow Cab Female        18394\n",
       "           Male          21502"
      ]
     },
     "execution_count": 98,
     "metadata": {},
     "output_type": "execute_result"
    }
   ],
   "source": [
    "df_count = pd.DataFrame(df.groupby(['Company','Gender'])['Customer ID'].nunique())\n",
    "df_count"
   ]
  },
  {
   "cell_type": "code",
   "execution_count": 10,
   "metadata": {},
   "outputs": [
    {
     "data": {
      "text/plain": [
       "<seaborn.axisgrid.FacetGrid at 0x7f87de328f70>"
      ]
     },
     "execution_count": 10,
     "metadata": {},
     "output_type": "execute_result"
    },
    {
     "data": {
      "image/png": "[encoded data removed]",
      "text/plain": [
       "<Figure size 521x360 with 1 Axes>"
      ]
     },
     "metadata": {
      "needs_background": "light"
     },
     "output_type": "display_data"
    }
   ],
   "source": [
    "colors3 = ['#fd6bbe','#ffd343']\n",
    "customPalette3 = sns.set_palette(sns.color_palette(colors3))\n",
    "sns.catplot(x=\"Gender\", hue=\"Company\",data=df_customer, kind=\"count\", palette=customPalette3, height = 5,aspect = 1.2)"
   ]
  },
  {
   "cell_type": "code",
   "execution_count": 11,
   "metadata": {},
   "outputs": [
    {
     "data": {
      "text/plain": [
       "0.5416331580575316"
      ]
     },
     "execution_count": 11,
     "metadata": {},
     "output_type": "execute_result"
    }
   ],
   "source": [
    "(a/(a+b))"
   ]
  },
  {
   "cell_type": "code",
   "execution_count": 29,
   "metadata": {},
   "outputs": [
    {
     "data": {
      "text/plain": [
       "<BarContainer object of 2 artists>"
      ]
     },
     "execution_count": 29,
     "metadata": {},
     "output_type": "execute_result"
    },
    {
     "data": {
      "image/png": "[encoded data removed]",
      "text/plain": [
       "<Figure size 720x720 with 1 Axes>"
      ]
     },
     "metadata": {
      "needs_background": "light"
     },
     "output_type": "display_data"
    }
   ],
   "source": [
    "fig_dims = (10, 10)\n",
    "fig, ax = plt.subplots(figsize=fig_dims)\n",
    "a = df[(df['Company'] == 'Pink Cab') & (df['Gender'] == 'Male')]['Customer ID'].nunique()\n",
    "b = df[(df['Company'] == 'Pink Cab') & (df['Gender'] == 'Female')]['Customer ID'].nunique()\n",
    "x = np.array([\"Male\", \"Female\"])\n",
    "ax.set_xlabel('Pink Cab')\n",
    "ax.set_ylabel('Number of Customer')\n",
    "y = np.array([a,b])\n",
    "plt.bar(x,y, color = 'Pink')"
   ]
  },
  {
   "cell_type": "code",
   "execution_count": 41,
   "metadata": {},
   "outputs": [
    {
     "data": {
      "text/plain": [
       "Text(0.5, 0, 'Pink Cab')"
      ]
     },
     "execution_count": 41,
     "metadata": {},
     "output_type": "execute_result"
    },
    {
     "data": {
      "image/png": "[encoded data removed]",
      "text/plain": [
       "<Figure size 576x576 with 1 Axes>"
      ]
     },
     "metadata": {},
     "output_type": "display_data"
    }
   ],
   "source": [
    "fig_dims = (8, 8)\n",
    "fig, ax = plt.subplots(figsize=fig_dims)\n",
    "a = df[(df['Company'] == 'Pink Cab') & (df['Gender'] == 'Male')]['Customer ID'].nunique()\n",
    "b = df[(df['Company'] == 'Pink Cab') & (df['Gender'] == 'Female')]['Customer ID'].nunique()\n",
    "labels = 'Male','Female'\n",
    "sizes = [(a/(a+b)), (b/(a+b))]\n",
    "plt.pie( x= sizes, labels = labels,autopct='%1.1f%%', colors = ['cornflowerblue','pink'])\n",
    "ax.set_xlabel('Pink Cab',size = 15)"
   ]
  },
  {
   "cell_type": "code",
   "execution_count": 223,
   "metadata": {},
   "outputs": [
    {
     "data": {
      "text/plain": [
       "<BarContainer object of 2 artists>"
      ]
     },
     "execution_count": 223,
     "metadata": {},
     "output_type": "execute_result"
    },
    {
     "data": {
      "image/png": "[encoded data removed]",
      "text/plain": [
       "<Figure size 720x720 with 1 Axes>"
      ]
     },
     "metadata": {
      "needs_background": "light"
     },
     "output_type": "display_data"
    }
   ],
   "source": [
    "fig_dims = (10, 10)\n",
    "fig, ax = plt.subplots(figsize=fig_dims)\n",
    "c = df[(df['Company'] == 'Yellow Cab') & (df['Gender'] == 'Male')]['Customer ID'].nunique()\n",
    "d = df[(df['Company'] == 'Yellow Cab') & (df['Gender'] == 'Female')]['Customer ID'].nunique()\n",
    "x1 = np.array([\"Male\", \"Female\"])\n",
    "ax.set_xlabel('Yellow Cab')\n",
    "ax.set_ylabel('Number of Customer')\n",
    "y1 = np.array([c,d])\n",
    "plt.bar(x1,y1,color = 'yellow')"
   ]
  },
  {
   "cell_type": "code",
   "execution_count": 42,
   "metadata": {},
   "outputs": [
    {
     "data": {
      "text/plain": [
       "Text(0.5, 0, 'Yellow Cab')"
      ]
     },
     "execution_count": 42,
     "metadata": {},
     "output_type": "execute_result"
    },
    {
     "data": {
      "image/png": "[encoded data removed]",
      "text/plain": [
       "<Figure size 576x576 with 1 Axes>"
      ]
     },
     "metadata": {},
     "output_type": "display_data"
    }
   ],
   "source": [
    "fig_dims = (8, 8)\n",
    "fig, ax = plt.subplots(figsize=fig_dims)\n",
    "a = df[(df['Company'] == 'Yellow Cab') & (df['Gender'] == 'Male')]['Customer ID'].nunique()\n",
    "b = df[(df['Company'] == 'Yellow Cab') & (df['Gender'] == 'Female')]['Customer ID'].nunique()\n",
    "labels = 'Male','Female'\n",
    "sizes = [(a/(a+b)), (b/(a+b))]\n",
    "plt.pie( x= sizes, labels = labels,autopct='%1.1f%%', colors = ['cornflowerblue','pink'])\n",
    "ax.set_xlabel('Yellow Cab',size =15)"
   ]
  },
  {
   "cell_type": "code",
   "execution_count": 235,
   "metadata": {},
   "outputs": [
    {
     "name": "stdout",
     "output_type": "stream",
     "text": [
      "Pink Cab: 32330\n",
      "Yellow Cab: 39896\n"
     ]
    }
   ],
   "source": [
    "print(\"Pink Cab:\",df[(df['Company'] == 'Pink Cab')]['Customer ID'].nunique()) \n",
    "print(\"Yellow Cab:\",df[(df['Company'] == 'Yellow Cab')]['Customer ID'].nunique()) "
   ]
  },
  {
   "cell_type": "code",
   "execution_count": 248,
   "metadata": {},
   "outputs": [
    {
     "name": "stdout",
     "output_type": "stream",
     "text": [
      "Pink Cab: 44.762273973361395 %\n",
      "Yellow Cab: 55.23772602663861 %\n"
     ]
    },
    {
     "data": {
      "image/png": "[encoded data removed]",
      "text/plain": [
       "<Figure size 432x288 with 1 Axes>"
      ]
     },
     "metadata": {},
     "output_type": "display_data"
    }
   ],
   "source": [
    "e = df[(df['Company'] == 'Pink Cab')]['Customer ID'].nunique()\n",
    "f = df[(df['Company'] == 'Yellow Cab')]['Customer ID'].nunique()\n",
    "plt.pie([e,f], labels = ['Pink Cab','Yellow Cab'])\n",
    "print(\"Pink Cab:\",e/(e+f)*100,'%')\n",
    "print(\"Yellow Cab:\",f/(e+f)*100,'%')"
   ]
  },
  {
   "cell_type": "markdown",
   "metadata": {},
   "source": [
    "### Hypothesis 3\n",
    "Null hypothesis: Pink Cab has less customers than Yellow Cab has in each city\n",
    "<br>\n",
    "Alternative hypothesis: Pink Cab has more customer than Yellow Cab has in each city"
   ]
  },
  {
   "cell_type": "code",
   "execution_count": 123,
   "metadata": {},
   "outputs": [
    {
     "data": {
      "text/plain": [
       "(-1.4634295900210088, 0.9239863971639088, 36.0)"
      ]
     },
     "execution_count": 123,
     "metadata": {},
     "output_type": "execute_result"
    }
   ],
   "source": [
    "from statsmodels.stats.weightstats import ttest_ind\n",
    "\n",
    "df1 = pd.DataFrame(df_customer.groupby(['Company','City'])['Customer ID'].count())\n",
    "\n",
    "pink_customer = df1.groupby(\"Company\").get_group(\"Pink Cab\")[\"Customer ID\"].tolist()\n",
    "yellow_customer = df1.groupby(\"Company\").get_group(\"Yellow Cab\")[\"Customer ID\"].tolist()\n",
    "\n",
    "ttest_ind(pink_customer,yellow_customer,alternative=\"larger\")"
   ]
  },
  {
   "cell_type": "markdown",
   "metadata": {},
   "source": [
    "Result: Failed to reject null hypothesis at the significance level of 0.05"
   ]
  },
  {
   "cell_type": "code",
   "execution_count": 175,
   "metadata": {},
   "outputs": [
    {
     "data": {
      "text/html": [
       "<div>\n",
       "<style scoped>\n",
       "    .dataframe tbody tr th:only-of-type {\n",
       "        vertical-align: middle;\n",
       "    }\n",
       "\n",
       "    .dataframe tbody tr th {\n",
       "        vertical-align: top;\n",
       "    }\n",
       "\n",
       "    .dataframe thead th {\n",
       "        text-align: right;\n",
       "    }\n",
       "</style>\n",
       "<table border=\"1\" class=\"dataframe\">\n",
       "  <thead>\n",
       "    <tr style=\"text-align: right;\">\n",
       "      <th></th>\n",
       "      <th>count</th>\n",
       "      <th>mean</th>\n",
       "      <th>std</th>\n",
       "      <th>min</th>\n",
       "      <th>25%</th>\n",
       "      <th>50%</th>\n",
       "      <th>75%</th>\n",
       "      <th>max</th>\n",
       "    </tr>\n",
       "    <tr>\n",
       "      <th>Company</th>\n",
       "      <th></th>\n",
       "      <th></th>\n",
       "      <th></th>\n",
       "      <th></th>\n",
       "      <th></th>\n",
       "      <th></th>\n",
       "      <th></th>\n",
       "      <th></th>\n",
       "    </tr>\n",
       "  </thead>\n",
       "  <tbody>\n",
       "    <tr>\n",
       "      <th>Pink Cab</th>\n",
       "      <td>32330.0</td>\n",
       "      <td>15034.097618</td>\n",
       "      <td>7999.420516</td>\n",
       "      <td>2000.0</td>\n",
       "      <td>8316.25</td>\n",
       "      <td>14651.5</td>\n",
       "      <td>21057.75</td>\n",
       "      <td>35000.0</td>\n",
       "    </tr>\n",
       "    <tr>\n",
       "      <th>Yellow Cab</th>\n",
       "      <td>39896.0</td>\n",
       "      <td>14983.896832</td>\n",
       "      <td>7994.148593</td>\n",
       "      <td>2000.0</td>\n",
       "      <td>8280.75</td>\n",
       "      <td>14619.5</td>\n",
       "      <td>21003.00</td>\n",
       "      <td>34996.0</td>\n",
       "    </tr>\n",
       "  </tbody>\n",
       "</table>\n",
       "</div>"
      ],
      "text/plain": [
       "              count          mean          std     min      25%      50%  \\\n",
       "Company                                                                    \n",
       "Pink Cab    32330.0  15034.097618  7999.420516  2000.0  8316.25  14651.5   \n",
       "Yellow Cab  39896.0  14983.896832  7994.148593  2000.0  8280.75  14619.5   \n",
       "\n",
       "                 75%      max  \n",
       "Company                        \n",
       "Pink Cab    21057.75  35000.0  \n",
       "Yellow Cab  21003.00  34996.0  "
      ]
     },
     "execution_count": 175,
     "metadata": {},
     "output_type": "execute_result"
    }
   ],
   "source": [
    "df_customer.groupby(['Company'])['Income (USD/Month)'].describe()"
   ]
  },
  {
   "cell_type": "code",
   "execution_count": 8,
   "metadata": {},
   "outputs": [
    {
     "data": {
      "text/plain": [
       "<seaborn.axisgrid.FacetGrid at 0x7f16b8474ac0>"
      ]
     },
     "execution_count": 8,
     "metadata": {},
     "output_type": "execute_result"
    },
    {
     "data": {
      "image/png": "[encoded data removed]",
      "text/plain": [
       "<Figure size 953x720 with 1 Axes>"
      ]
     },
     "metadata": {
      "needs_background": "light"
     },
     "output_type": "display_data"
    }
   ],
   "source": [
    "colors4 = ['#fd6bbe','#ffd343']\n",
    "customPalette4 = sns.set_palette(sns.color_palette(colors4))\n",
    "sns.catplot(\"Income (USD/Month)\", \"City\", \"Company\", data=df_customer, kind=\"box\",height = 10,aspect = 1.2,palette=customPalette4)"
   ]
  },
  {
   "cell_type": "code",
   "execution_count": 18,
   "metadata": {},
   "outputs": [
    {
     "data": {
      "text/plain": [
       "<matplotlib.axes._subplots.AxesSubplot at 0x7f168e130220>"
      ]
     },
     "execution_count": 18,
     "metadata": {},
     "output_type": "execute_result"
    },
    {
     "data": {
      "image/png": "[encoded data removed]",
      "text/plain": [
       "<Figure size 720x720 with 1 Axes>"
      ]
     },
     "metadata": {
      "needs_background": "light"
     },
     "output_type": "display_data"
    }
   ],
   "source": [
    "fig_dims = (10, 10)\n",
    "fig, ax = plt.subplots(figsize=fig_dims)\n",
    "sns.boxplot(x='year',y='Income (USD/Month)',hue = 'Company',data = df_customer, ax = ax)"
   ]
  },
  {
   "cell_type": "code",
   "execution_count": 28,
   "metadata": {},
   "outputs": [
    {
     "data": {
      "text/html": [
       "<div>\n",
       "<style scoped>\n",
       "    .dataframe tbody tr th:only-of-type {\n",
       "        vertical-align: middle;\n",
       "    }\n",
       "\n",
       "    .dataframe tbody tr th {\n",
       "        vertical-align: top;\n",
       "    }\n",
       "\n",
       "    .dataframe thead th {\n",
       "        text-align: right;\n",
       "    }\n",
       "</style>\n",
       "<table border=\"1\" class=\"dataframe\">\n",
       "  <thead>\n",
       "    <tr style=\"text-align: right;\">\n",
       "      <th></th>\n",
       "      <th>count</th>\n",
       "      <th>mean</th>\n",
       "      <th>std</th>\n",
       "      <th>min</th>\n",
       "      <th>25%</th>\n",
       "      <th>50%</th>\n",
       "      <th>75%</th>\n",
       "      <th>max</th>\n",
       "    </tr>\n",
       "    <tr>\n",
       "      <th>Company</th>\n",
       "      <th></th>\n",
       "      <th></th>\n",
       "      <th></th>\n",
       "      <th></th>\n",
       "      <th></th>\n",
       "      <th></th>\n",
       "      <th></th>\n",
       "      <th></th>\n",
       "    </tr>\n",
       "  </thead>\n",
       "  <tbody>\n",
       "    <tr>\n",
       "      <th>Pink Cab</th>\n",
       "      <td>32330.0</td>\n",
       "      <td>15034.097618</td>\n",
       "      <td>7999.420516</td>\n",
       "      <td>2000.0</td>\n",
       "      <td>8316.25</td>\n",
       "      <td>14651.5</td>\n",
       "      <td>21057.75</td>\n",
       "      <td>35000.0</td>\n",
       "    </tr>\n",
       "    <tr>\n",
       "      <th>Yellow Cab</th>\n",
       "      <td>39896.0</td>\n",
       "      <td>14983.896832</td>\n",
       "      <td>7994.148593</td>\n",
       "      <td>2000.0</td>\n",
       "      <td>8280.75</td>\n",
       "      <td>14619.5</td>\n",
       "      <td>21003.00</td>\n",
       "      <td>34996.0</td>\n",
       "    </tr>\n",
       "  </tbody>\n",
       "</table>\n",
       "</div>"
      ],
      "text/plain": [
       "              count          mean          std     min      25%      50%  \\\n",
       "Company                                                                    \n",
       "Pink Cab    32330.0  15034.097618  7999.420516  2000.0  8316.25  14651.5   \n",
       "Yellow Cab  39896.0  14983.896832  7994.148593  2000.0  8280.75  14619.5   \n",
       "\n",
       "                 75%      max  \n",
       "Company                        \n",
       "Pink Cab    21057.75  35000.0  \n",
       "Yellow Cab  21003.00  34996.0  "
      ]
     },
     "execution_count": 28,
     "metadata": {},
     "output_type": "execute_result"
    }
   ],
   "source": [
    "df_customer.groupby(['Company'])['Income (USD/Month)'].describe()"
   ]
  },
  {
   "cell_type": "markdown",
   "metadata": {},
   "source": [
    "### Hypothesis 4\n",
    "Null hypothesis: The Pink Cab's customers' incomes are the same as Yellow Cab's customers' income\n",
    "<br>\n",
    "Alternative hypothesis: The Pink Cab's customers' incomes are not the same as Yellow Cab's customers' income"
   ]
  },
  {
   "cell_type": "code",
   "execution_count": 31,
   "metadata": {},
   "outputs": [
    {
     "data": {
      "text/plain": [
       "Ttest_indResult(statistic=0.8389398957922386, pvalue=0.40150581507996697)"
      ]
     },
     "execution_count": 31,
     "metadata": {},
     "output_type": "execute_result"
    }
   ],
   "source": [
    "from scipy.stats import ttest_ind_from_stats\n",
    "pink_mean = df_customer[df_customer['Company'] == 'Pink Cab']['Income (USD/Month)'].mean()\n",
    "pink_std = df_customer[df_customer['Company'] == 'Pink Cab']['Income (USD/Month)'].std()\n",
    "pink_n = df_customer[df_customer['Company'] == 'Pink Cab']['Income (USD/Month)'].count()\n",
    "\n",
    "yellow_mean = df_customer[df_customer['Company'] == 'Yellow Cab']['Income (USD/Month)'].mean()\n",
    "yellow_std = df_customer[df_customer['Company'] == 'Yellow Cab']['Income (USD/Month)'].std()\n",
    "yellow_n = df_customer[df_customer['Company'] == 'Yellow Cab']['Income (USD/Month)'].count()\n",
    "\n",
    "ttest_ind_from_stats(pink_mean, pink_std, pink_n,\n",
    "                     yellow_mean, yellow_std, yellow_n)"
   ]
  },
  {
   "cell_type": "markdown",
   "metadata": {},
   "source": [
    "Result: Failed to reject null hypothesis at the significance level of 0.05"
   ]
  },
  {
   "cell_type": "code",
   "execution_count": 15,
   "metadata": {},
   "outputs": [
    {
     "data": {
      "text/plain": [
       "Company     Payment_Mode\n",
       "Pink Cab    Card            19434\n",
       "            Cash            12896\n",
       "Yellow Cab  Card            23990\n",
       "            Cash            15906\n",
       "Name: Customer ID, dtype: int64"
      ]
     },
     "execution_count": 15,
     "metadata": {},
     "output_type": "execute_result"
    }
   ],
   "source": [
    "df_customer.groupby(['Company','Payment_Mode'])['Customer ID'].count()"
   ]
  },
  {
   "cell_type": "code",
   "execution_count": 11,
   "metadata": {},
   "outputs": [
    {
     "data": {
      "text/plain": [
       "<seaborn.axisgrid.FacetGrid at 0x7f87de3e4280>"
      ]
     },
     "execution_count": 11,
     "metadata": {},
     "output_type": "execute_result"
    },
    {
     "data": {
      "image/png": "[encoded data removed]",
      "text/plain": [
       "<Figure size 521x360 with 1 Axes>"
      ]
     },
     "metadata": {
      "needs_background": "light"
     },
     "output_type": "display_data"
    }
   ],
   "source": [
    "colors4 = ['#fd6bbe','#ffd343']\n",
    "customPalette4 = sns.set_palette(sns.color_palette(colors4))\n",
    "sns.catplot(x=\"Payment_Mode\", hue=\"Company\",data=df_customer, kind=\"count\", palette=customPalette4, height = 5,aspect = 1.2)"
   ]
  },
  {
   "cell_type": "code",
   "execution_count": 87,
   "metadata": {},
   "outputs": [
    {
     "data": {
      "text/plain": [
       "count    72226.000000\n",
       "mean        35.352311\n",
       "std         12.603270\n",
       "min         18.000000\n",
       "25%         25.000000\n",
       "50%         33.000000\n",
       "75%         42.000000\n",
       "max         65.000000\n",
       "Name: Age, dtype: float64"
      ]
     },
     "execution_count": 87,
     "metadata": {},
     "output_type": "execute_result"
    }
   ],
   "source": [
    "df_customer['Age'].describe()"
   ]
  },
  {
   "cell_type": "code",
   "execution_count": 88,
   "metadata": {},
   "outputs": [
    {
     "data": {
      "text/plain": [
       "Company     Age Group                   \n",
       "Pink Cab    Middle Age between 31 and 50    13707\n",
       "            Old Age between 51 and 65        5146\n",
       "            Young Age between 18 and 30     13477\n",
       "Yellow Cab  Middle Age between 31 and 50    16970\n",
       "            Old Age between 51 and 65        6295\n",
       "            Young Age between 18 and 30     16631\n",
       "Name: Payment_Mode, dtype: int64"
      ]
     },
     "execution_count": 88,
     "metadata": {},
     "output_type": "execute_result"
    }
   ],
   "source": [
    "df_customer['Age Group'] = ''\n",
    "df_customer.loc[(df_customer['Age'] >= 18) & (df_customer['Age'] <= 30),'Age Group'] = 'Young Age between 18 and 30'\n",
    "df_customer.loc[(df_customer['Age'] > 30) & (df_customer['Age'] <= 50),'Age Group'] = 'Middle Age between 31 and 50'\n",
    "df_customer.loc[(df_customer['Age'] > 50),'Age Group'] = 'Old Age between 51 and 65'\n",
    "df_customer.groupby(['Company','Age Group'])['Payment_Mode'].count()"
   ]
  },
  {
   "cell_type": "code",
   "execution_count": 93,
   "metadata": {},
   "outputs": [
    {
     "data": {
      "text/plain": [
       "<seaborn.axisgrid.FacetGrid at 0x7f87db0ab400>"
      ]
     },
     "execution_count": 93,
     "metadata": {},
     "output_type": "execute_result"
    },
    {
     "data": {
      "image/png": "[encoded data removed]",
      "text/plain": [
       "<Figure size 866.6x216 with 3 Axes>"
      ]
     },
     "metadata": {
      "needs_background": "light"
     },
     "output_type": "display_data"
    }
   ],
   "source": [
    "colors5 = ['#fd6bbe','#ffd343']\n",
    "customPalette5 = sns.set_palette(sns.color_palette(colors5))\n",
    "sns.catplot(x=\"Payment_Mode\", hue=\"Company\",col = 'Age Group',col_order = ['Young Age between 18 and 30','Middle Age between 31 and 50','Old Age between 51 and 65'],data=df_customer, kind=\"count\", palette=customPalette5, height = 3,aspect = 1.2)"
   ]
  },
  {
   "cell_type": "code",
   "execution_count": 105,
   "metadata": {},
   "outputs": [
    {
     "data": {
      "text/plain": [
       "<matplotlib.legend.Legend at 0x7f87daf21430>"
      ]
     },
     "execution_count": 105,
     "metadata": {},
     "output_type": "execute_result"
    },
    {
     "data": {
      "image/png": "[encoded data removed]",
      "text/plain": [
       "<Figure size 720x720 with 1 Axes>"
      ]
     },
     "metadata": {
      "needs_background": "light"
     },
     "output_type": "display_data"
    }
   ],
   "source": [
    "fig_dims = (10, 10)\n",
    "fig, ax = plt.subplots(figsize=fig_dims)\n",
    "sns.distplot(df[df['Company'] == 'Yellow Cab']['Age'], color = '#ffd343', label = 'Yellow Cab',ax = ax).legend()\n",
    "sns.distplot(df[df['Company'] == 'Pink Cab']['Age'], color = '#fd6bbe', label = 'Pink Cab',ax = ax).legend()"
   ]
  },
  {
   "cell_type": "markdown",
   "metadata": {},
   "source": [
    "### Hypothesis 5\n",
    "Null hypothesis: Pink Cab's customers' ages are the same as Yellow Cab's customers' ages\n",
    "<br>\n",
    "Alternative hypothesis: Pink Cab's customers' ages are not the same as Yellow Cab's customers' ages"
   ]
  },
  {
   "cell_type": "code",
   "execution_count": 106,
   "metadata": {},
   "outputs": [
    {
     "data": {
      "text/plain": [
       "(0.3163375997512036, 0.7517471890396208, 72224.0)"
      ]
     },
     "execution_count": 106,
     "metadata": {},
     "output_type": "execute_result"
    }
   ],
   "source": [
    "from statsmodels.stats.weightstats import ttest_ind\n",
    "\n",
    "pink_customer = df_customer[df_customer['Company']=='Pink Cab']['Age']\n",
    "yellow_customer = df_customer[df_customer['Company']=='Yellow Cab']['Age']\n",
    "\n",
    "ttest_ind(pink_customer,yellow_customer,alternative=\"two-sided\")"
   ]
  },
  {
   "cell_type": "markdown",
   "metadata": {},
   "source": [
    "Results: Failed to reject null hypothesis"
   ]
  },
  {
   "cell_type": "code",
   "execution_count": 19,
   "metadata": {},
   "outputs": [
    {
     "data": {
      "text/html": [
       "<div>\n",
       "<style scoped>\n",
       "    .dataframe tbody tr th:only-of-type {\n",
       "        vertical-align: middle;\n",
       "    }\n",
       "\n",
       "    .dataframe tbody tr th {\n",
       "        vertical-align: top;\n",
       "    }\n",
       "\n",
       "    .dataframe thead th {\n",
       "        text-align: right;\n",
       "    }\n",
       "</style>\n",
       "<table border=\"1\" class=\"dataframe\">\n",
       "  <thead>\n",
       "    <tr style=\"text-align: right;\">\n",
       "      <th></th>\n",
       "      <th>Transaction ID</th>\n",
       "      <th>Date of Travel</th>\n",
       "      <th>Company</th>\n",
       "      <th>City</th>\n",
       "      <th>KM Travelled</th>\n",
       "      <th>Price Charged</th>\n",
       "      <th>Cost of Trip</th>\n",
       "      <th>Customer ID</th>\n",
       "      <th>Payment_Mode</th>\n",
       "      <th>Population</th>\n",
       "      <th>Users</th>\n",
       "      <th>Gender</th>\n",
       "      <th>Age</th>\n",
       "      <th>Income (USD/Month)</th>\n",
       "      <th>year</th>\n",
       "      <th>month</th>\n",
       "    </tr>\n",
       "  </thead>\n",
       "  <tbody>\n",
       "    <tr>\n",
       "      <th>0</th>\n",
       "      <td>10000011</td>\n",
       "      <td>2016-01-08</td>\n",
       "      <td>Pink Cab</td>\n",
       "      <td>ATLANTA GA</td>\n",
       "      <td>30.45</td>\n",
       "      <td>370.95</td>\n",
       "      <td>313.6350</td>\n",
       "      <td>29290</td>\n",
       "      <td>Card</td>\n",
       "      <td>814,885</td>\n",
       "      <td>24,701</td>\n",
       "      <td>Male</td>\n",
       "      <td>28</td>\n",
       "      <td>10813</td>\n",
       "      <td>2016</td>\n",
       "      <td>1</td>\n",
       "    </tr>\n",
       "    <tr>\n",
       "      <th>1</th>\n",
       "      <td>10351127</td>\n",
       "      <td>2018-07-21</td>\n",
       "      <td>Yellow Cab</td>\n",
       "      <td>ATLANTA GA</td>\n",
       "      <td>26.19</td>\n",
       "      <td>598.70</td>\n",
       "      <td>317.4228</td>\n",
       "      <td>29290</td>\n",
       "      <td>Cash</td>\n",
       "      <td>814,885</td>\n",
       "      <td>24,701</td>\n",
       "      <td>Male</td>\n",
       "      <td>28</td>\n",
       "      <td>10813</td>\n",
       "      <td>2018</td>\n",
       "      <td>7</td>\n",
       "    </tr>\n",
       "    <tr>\n",
       "      <th>2</th>\n",
       "      <td>10412921</td>\n",
       "      <td>2018-11-23</td>\n",
       "      <td>Yellow Cab</td>\n",
       "      <td>ATLANTA GA</td>\n",
       "      <td>42.55</td>\n",
       "      <td>792.05</td>\n",
       "      <td>597.4020</td>\n",
       "      <td>29290</td>\n",
       "      <td>Card</td>\n",
       "      <td>814,885</td>\n",
       "      <td>24,701</td>\n",
       "      <td>Male</td>\n",
       "      <td>28</td>\n",
       "      <td>10813</td>\n",
       "      <td>2018</td>\n",
       "      <td>11</td>\n",
       "    </tr>\n",
       "    <tr>\n",
       "      <th>3</th>\n",
       "      <td>10000012</td>\n",
       "      <td>2016-01-06</td>\n",
       "      <td>Pink Cab</td>\n",
       "      <td>ATLANTA GA</td>\n",
       "      <td>28.62</td>\n",
       "      <td>358.52</td>\n",
       "      <td>334.8540</td>\n",
       "      <td>27703</td>\n",
       "      <td>Card</td>\n",
       "      <td>814,885</td>\n",
       "      <td>24,701</td>\n",
       "      <td>Male</td>\n",
       "      <td>27</td>\n",
       "      <td>9237</td>\n",
       "      <td>2016</td>\n",
       "      <td>1</td>\n",
       "    </tr>\n",
       "    <tr>\n",
       "      <th>4</th>\n",
       "      <td>10320494</td>\n",
       "      <td>2018-04-21</td>\n",
       "      <td>Yellow Cab</td>\n",
       "      <td>ATLANTA GA</td>\n",
       "      <td>36.38</td>\n",
       "      <td>721.10</td>\n",
       "      <td>467.1192</td>\n",
       "      <td>27703</td>\n",
       "      <td>Card</td>\n",
       "      <td>814,885</td>\n",
       "      <td>24,701</td>\n",
       "      <td>Male</td>\n",
       "      <td>27</td>\n",
       "      <td>9237</td>\n",
       "      <td>2018</td>\n",
       "      <td>4</td>\n",
       "    </tr>\n",
       "    <tr>\n",
       "      <th>...</th>\n",
       "      <td>...</td>\n",
       "      <td>...</td>\n",
       "      <td>...</td>\n",
       "      <td>...</td>\n",
       "      <td>...</td>\n",
       "      <td>...</td>\n",
       "      <td>...</td>\n",
       "      <td>...</td>\n",
       "      <td>...</td>\n",
       "      <td>...</td>\n",
       "      <td>...</td>\n",
       "      <td>...</td>\n",
       "      <td>...</td>\n",
       "      <td>...</td>\n",
       "      <td>...</td>\n",
       "      <td>...</td>\n",
       "    </tr>\n",
       "    <tr>\n",
       "      <th>359387</th>\n",
       "      <td>10307228</td>\n",
       "      <td>2018-03-03</td>\n",
       "      <td>Yellow Cab</td>\n",
       "      <td>WASHINGTON DC</td>\n",
       "      <td>38.40</td>\n",
       "      <td>668.93</td>\n",
       "      <td>525.3120</td>\n",
       "      <td>51406</td>\n",
       "      <td>Cash</td>\n",
       "      <td>418,859</td>\n",
       "      <td>127,001</td>\n",
       "      <td>Female</td>\n",
       "      <td>29</td>\n",
       "      <td>6829</td>\n",
       "      <td>2018</td>\n",
       "      <td>3</td>\n",
       "    </tr>\n",
       "    <tr>\n",
       "      <th>359388</th>\n",
       "      <td>10319775</td>\n",
       "      <td>2018-04-13</td>\n",
       "      <td>Yellow Cab</td>\n",
       "      <td>WASHINGTON DC</td>\n",
       "      <td>3.57</td>\n",
       "      <td>67.60</td>\n",
       "      <td>44.5536</td>\n",
       "      <td>51406</td>\n",
       "      <td>Cash</td>\n",
       "      <td>418,859</td>\n",
       "      <td>127,001</td>\n",
       "      <td>Female</td>\n",
       "      <td>29</td>\n",
       "      <td>6829</td>\n",
       "      <td>2018</td>\n",
       "      <td>4</td>\n",
       "    </tr>\n",
       "    <tr>\n",
       "      <th>359389</th>\n",
       "      <td>10347676</td>\n",
       "      <td>2018-07-06</td>\n",
       "      <td>Yellow Cab</td>\n",
       "      <td>WASHINGTON DC</td>\n",
       "      <td>23.46</td>\n",
       "      <td>331.97</td>\n",
       "      <td>337.8240</td>\n",
       "      <td>51406</td>\n",
       "      <td>Card</td>\n",
       "      <td>418,859</td>\n",
       "      <td>127,001</td>\n",
       "      <td>Female</td>\n",
       "      <td>29</td>\n",
       "      <td>6829</td>\n",
       "      <td>2018</td>\n",
       "      <td>7</td>\n",
       "    </tr>\n",
       "    <tr>\n",
       "      <th>359390</th>\n",
       "      <td>10358624</td>\n",
       "      <td>2018-08-02</td>\n",
       "      <td>Yellow Cab</td>\n",
       "      <td>WASHINGTON DC</td>\n",
       "      <td>27.60</td>\n",
       "      <td>358.23</td>\n",
       "      <td>364.3200</td>\n",
       "      <td>51406</td>\n",
       "      <td>Cash</td>\n",
       "      <td>418,859</td>\n",
       "      <td>127,001</td>\n",
       "      <td>Female</td>\n",
       "      <td>29</td>\n",
       "      <td>6829</td>\n",
       "      <td>2018</td>\n",
       "      <td>8</td>\n",
       "    </tr>\n",
       "    <tr>\n",
       "      <th>359391</th>\n",
       "      <td>10370709</td>\n",
       "      <td>2018-08-30</td>\n",
       "      <td>Yellow Cab</td>\n",
       "      <td>WASHINGTON DC</td>\n",
       "      <td>34.24</td>\n",
       "      <td>453.11</td>\n",
       "      <td>427.3152</td>\n",
       "      <td>51406</td>\n",
       "      <td>Card</td>\n",
       "      <td>418,859</td>\n",
       "      <td>127,001</td>\n",
       "      <td>Female</td>\n",
       "      <td>29</td>\n",
       "      <td>6829</td>\n",
       "      <td>2018</td>\n",
       "      <td>8</td>\n",
       "    </tr>\n",
       "  </tbody>\n",
       "</table>\n",
       "<p>359392 rows × 16 columns</p>\n",
       "</div>"
      ],
      "text/plain": [
       "        Transaction ID Date of Travel     Company           City  \\\n",
       "0             10000011     2016-01-08    Pink Cab     ATLANTA GA   \n",
       "1             10351127     2018-07-21  Yellow Cab     ATLANTA GA   \n",
       "2             10412921     2018-11-23  Yellow Cab     ATLANTA GA   \n",
       "3             10000012     2016-01-06    Pink Cab     ATLANTA GA   \n",
       "4             10320494     2018-04-21  Yellow Cab     ATLANTA GA   \n",
       "...                ...            ...         ...            ...   \n",
       "359387        10307228     2018-03-03  Yellow Cab  WASHINGTON DC   \n",
       "359388        10319775     2018-04-13  Yellow Cab  WASHINGTON DC   \n",
       "359389        10347676     2018-07-06  Yellow Cab  WASHINGTON DC   \n",
       "359390        10358624     2018-08-02  Yellow Cab  WASHINGTON DC   \n",
       "359391        10370709     2018-08-30  Yellow Cab  WASHINGTON DC   \n",
       "\n",
       "        KM Travelled  Price Charged  Cost of Trip  Customer ID Payment_Mode  \\\n",
       "0              30.45         370.95      313.6350        29290         Card   \n",
       "1              26.19         598.70      317.4228        29290         Cash   \n",
       "2              42.55         792.05      597.4020        29290         Card   \n",
       "3              28.62         358.52      334.8540        27703         Card   \n",
       "4              36.38         721.10      467.1192        27703         Card   \n",
       "...              ...            ...           ...          ...          ...   \n",
       "359387         38.40         668.93      525.3120        51406         Cash   \n",
       "359388          3.57          67.60       44.5536        51406         Cash   \n",
       "359389         23.46         331.97      337.8240        51406         Card   \n",
       "359390         27.60         358.23      364.3200        51406         Cash   \n",
       "359391         34.24         453.11      427.3152        51406         Card   \n",
       "\n",
       "       Population      Users  Gender  Age  Income (USD/Month)  year  month  \n",
       "0        814,885     24,701     Male   28               10813  2016      1  \n",
       "1        814,885     24,701     Male   28               10813  2018      7  \n",
       "2        814,885     24,701     Male   28               10813  2018     11  \n",
       "3        814,885     24,701     Male   27                9237  2016      1  \n",
       "4        814,885     24,701     Male   27                9237  2018      4  \n",
       "...           ...        ...     ...  ...                 ...   ...    ...  \n",
       "359387   418,859    127,001   Female   29                6829  2018      3  \n",
       "359388   418,859    127,001   Female   29                6829  2018      4  \n",
       "359389   418,859    127,001   Female   29                6829  2018      7  \n",
       "359390   418,859    127,001   Female   29                6829  2018      8  \n",
       "359391   418,859    127,001   Female   29                6829  2018      8  \n",
       "\n",
       "[359392 rows x 16 columns]"
      ]
     },
     "execution_count": 19,
     "metadata": {},
     "output_type": "execute_result"
    }
   ],
   "source": [
    "df"
   ]
  },
  {
   "cell_type": "code",
   "execution_count": null,
   "metadata": {},
   "outputs": [],
   "source": []
  }
 ],
 "metadata": {
  "kernelspec": {
   "display_name": "Python 3",
   "language": "python",
   "name": "python3"
  },
  "language_info": {
   "codemirror_mode": {
    "name": "ipython",
    "version": 3
   },
   "file_extension": ".py",
   "mimetype": "text/x-python",
   "name": "python",
   "nbconvert_exporter": "python",
   "pygments_lexer": "ipython3",
   "version": "3.8.5"
  }
 },
 "nbformat": 4,
 "nbformat_minor": 4
}
